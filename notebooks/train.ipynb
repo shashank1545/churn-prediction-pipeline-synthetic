{
 "cells": [
  {
   "cell_type": "code",
   "execution_count": 73,
   "id": "cea0606c",
   "metadata": {},
   "outputs": [],
   "source": [
    "import numpy as np\n",
    "import pandas as pd\n",
    "import xgboost as xgb\n",
    "from sklearn.model_selection import train_test_split, KFold\n",
    "from sklearn.metrics import accuracy_score, roc_auc_score\n",
    "from sklearn.linear_model import LogisticRegression\n",
    "from sklearn.ensemble import RandomForestClassifier"
   ]
  },
  {
   "cell_type": "code",
   "execution_count": 4,
   "id": "63aa9ca9",
   "metadata": {},
   "outputs": [
    {
     "data": {
      "text/html": [
       "<div>\n",
       "<style scoped>\n",
       "    .dataframe tbody tr th:only-of-type {\n",
       "        vertical-align: middle;\n",
       "    }\n",
       "\n",
       "    .dataframe tbody tr th {\n",
       "        vertical-align: top;\n",
       "    }\n",
       "\n",
       "    .dataframe thead th {\n",
       "        text-align: right;\n",
       "    }\n",
       "</style>\n",
       "<table border=\"1\" class=\"dataframe\">\n",
       "  <thead>\n",
       "    <tr style=\"text-align: right;\">\n",
       "      <th></th>\n",
       "      <th>Age</th>\n",
       "      <th>Gender</th>\n",
       "      <th>Location</th>\n",
       "      <th>Subscription_Length_Months</th>\n",
       "      <th>Monthly_Bill</th>\n",
       "      <th>Total_Usage_GB</th>\n",
       "      <th>Churn</th>\n",
       "      <th>Avg_Usage_GB</th>\n",
       "      <th>Cost_Per_GB</th>\n",
       "    </tr>\n",
       "  </thead>\n",
       "  <tbody>\n",
       "    <tr>\n",
       "      <th>0</th>\n",
       "      <td>0.865385</td>\n",
       "      <td>1.0</td>\n",
       "      <td>0.50</td>\n",
       "      <td>0.695652</td>\n",
       "      <td>0.619429</td>\n",
       "      <td>0.413333</td>\n",
       "      <td>0.0</td>\n",
       "      <td>0.023697</td>\n",
       "      <td>0.114158</td>\n",
       "    </tr>\n",
       "    <tr>\n",
       "      <th>1</th>\n",
       "      <td>0.846154</td>\n",
       "      <td>0.0</td>\n",
       "      <td>1.00</td>\n",
       "      <td>0.000000</td>\n",
       "      <td>0.268000</td>\n",
       "      <td>0.271111</td>\n",
       "      <td>0.0</td>\n",
       "      <td>0.341255</td>\n",
       "      <td>0.004859</td>\n",
       "    </tr>\n",
       "    <tr>\n",
       "      <th>2</th>\n",
       "      <td>0.115385</td>\n",
       "      <td>0.0</td>\n",
       "      <td>0.50</td>\n",
       "      <td>0.173913</td>\n",
       "      <td>0.792429</td>\n",
       "      <td>0.911111</td>\n",
       "      <td>0.0</td>\n",
       "      <td>0.180586</td>\n",
       "      <td>0.018968</td>\n",
       "    </tr>\n",
       "    <tr>\n",
       "      <th>3</th>\n",
       "      <td>0.346154</td>\n",
       "      <td>0.0</td>\n",
       "      <td>0.75</td>\n",
       "      <td>0.086957</td>\n",
       "      <td>0.970571</td>\n",
       "      <td>0.548889</td>\n",
       "      <td>1.0</td>\n",
       "      <td>0.194644</td>\n",
       "      <td>0.020285</td>\n",
       "    </tr>\n",
       "    <tr>\n",
       "      <th>4</th>\n",
       "      <td>0.538462</td>\n",
       "      <td>0.0</td>\n",
       "      <td>0.75</td>\n",
       "      <td>0.782609</td>\n",
       "      <td>0.402000</td>\n",
       "      <td>0.480000</td>\n",
       "      <td>0.0</td>\n",
       "      <td>0.023933</td>\n",
       "      <td>0.089427</td>\n",
       "    </tr>\n",
       "  </tbody>\n",
       "</table>\n",
       "</div>"
      ],
      "text/plain": [
       "        Age  Gender  Location  Subscription_Length_Months  Monthly_Bill  \\\n",
       "0  0.865385     1.0      0.50                    0.695652      0.619429   \n",
       "1  0.846154     0.0      1.00                    0.000000      0.268000   \n",
       "2  0.115385     0.0      0.50                    0.173913      0.792429   \n",
       "3  0.346154     0.0      0.75                    0.086957      0.970571   \n",
       "4  0.538462     0.0      0.75                    0.782609      0.402000   \n",
       "\n",
       "   Total_Usage_GB  Churn  Avg_Usage_GB  Cost_Per_GB  \n",
       "0        0.413333    0.0      0.023697     0.114158  \n",
       "1        0.271111    0.0      0.341255     0.004859  \n",
       "2        0.911111    0.0      0.180586     0.018968  \n",
       "3        0.548889    1.0      0.194644     0.020285  \n",
       "4        0.480000    0.0      0.023933     0.089427  "
      ]
     },
     "execution_count": 4,
     "metadata": {},
     "output_type": "execute_result"
    }
   ],
   "source": [
    "df = pd.read_parquet('../data/processed/customer_churn_large_dataset.parquet')\n",
    "df.head()"
   ]
  },
  {
   "cell_type": "code",
   "execution_count": 43,
   "id": "c7cfc27f",
   "metadata": {},
   "outputs": [],
   "source": [
    "# Dividing the data into x and y and furthur train and test\n",
    "y = df['Churn']\n",
    "X = df.drop(columns=['Churn'],axis=1)\n",
    "X_train, X_test, y_train, y_test = train_test_split(X, y, test_size=0.2, shuffle = True, random_state=42)"
   ]
  },
  {
   "cell_type": "code",
   "execution_count": 71,
   "id": "f7c6f62f",
   "metadata": {},
   "outputs": [
    {
     "name": "stdout",
     "output_type": "stream",
     "text": [
      "Train AUC: 0.5029, Test AUC: 0.5007\n"
     ]
    }
   ],
   "source": [
    "lr = LogisticRegression()\n",
    "model = lr.fit(X_train, y_train)\n",
    "y_predict_test = model.predict(X_test)\n",
    "y_predict_train = model.predict(X_train)\n",
    "\n",
    "train_auc = roc_auc_score(y_predict_train, y_train)\n",
    "test_auc = roc_auc_score(y_predict_test, y_test)\n",
    "print(f\"Train AUC: {train_auc:.4f}, Test AUC: {test_auc:.4f}\")"
   ]
  },
  {
   "cell_type": "code",
   "execution_count": 74,
   "id": "f705f1e0",
   "metadata": {},
   "outputs": [
    {
     "name": "stdout",
     "output_type": "stream",
     "text": [
      "Train AUC: 1.0000, Test AUC: 0.5053\n"
     ]
    }
   ],
   "source": [
    "rf = RandomForestClassifier()\n",
    "model = rf.fit(X_train, y_train)\n",
    "\n",
    "y_predict_test = model.predict(X_test)\n",
    "y_predict_train = model.predict(X_train)\n",
    "\n",
    "train_auc = roc_auc_score(y_predict_train, y_train)\n",
    "test_auc = roc_auc_score(y_predict_test, y_test)\n",
    "print(f\"Train AUC: {train_auc:.4f}, Test AUC: {test_auc:.4f}\")"
   ]
  },
  {
   "cell_type": "code",
   "execution_count": 44,
   "id": "317703fb",
   "metadata": {},
   "outputs": [],
   "source": [
    "# Converting train and test data into dmatrix for xgboost use\n",
    "dtrain = xgb.DMatrix(data = X_train, label = y_train)\n",
    "dtest = xgb.DMatrix(data = X_test, label = y_test)"
   ]
  },
  {
   "cell_type": "code",
   "execution_count": null,
   "id": "f7f75231",
   "metadata": {},
   "outputs": [
    {
     "name": "stdout",
     "output_type": "stream",
     "text": [
      "Fold 1, Train AUC: 0.6989, Validation AUC: 0.4993\n",
      "Fold 2, Train AUC: 0.6924, Validation AUC: 0.5026\n",
      "Fold 3, Train AUC: 0.6902, Validation AUC: 0.4998\n",
      "Fold 4, Train AUC: 0.6917, Validation AUC: 0.5011\n",
      "Fold 5, Train AUC: 0.6932, Validation AUC: 0.5040\n",
      "Train AUC: 0.6765, Test AUC: 0.5030\n"
     ]
    }
   ],
   "source": [
    "# Training parameters with tweaked values\n",
    "xgb_params = {\n",
    "    'objective': 'binary:logistic',\n",
    "    'max_depth': 6,  \n",
    "    'learning_rate': 0.03,  \n",
    "    'eval_metric': 'auc', \n",
    "    'subsample': 0.8,  \n",
    "    'colsample_bytree': 0.8, \n",
    "    'seed': 42\n",
    "}\n",
    "\n",
    "# Evaluation function\n",
    "def eval_function(preds, dtrain):\n",
    "    labels = dtrain.get_label()\n",
    "    auc_score = roc_auc_score(labels, preds)\n",
    "    return 'custom_auc', auc_score\n",
    "\n",
    "kf = KFold(n_splits=5, shuffle=True, random_state=42)\n",
    "\n",
    "# Lists to store scores\n",
    "train_auc_scores = []\n",
    "val_auc_scores = []\n",
    "\n",
    "# Perform k-fold cross-validation\n",
    "for fold, (train_idx, val_idx) in enumerate(kf.split(X_train, y_train)):\n",
    "    X_train_fold = X_train.iloc[train_idx]\n",
    "    y_train_fold = y_train.iloc[train_idx]\n",
    "    X_val_fold = X_train.iloc[val_idx]\n",
    "    y_val_fold = y_train.iloc[val_idx]\n",
    "\n",
    "    # Create DMatrix for XGBoost\n",
    "    dtrain_fold = xgb.DMatrix(X_train_fold, label=y_train_fold)\n",
    "    dval_fold = xgb.DMatrix(X_val_fold, label=y_val_fold)\n",
    "\n",
    "    # Train XGBoost model\n",
    "    model = xgb.train(xgb_params, dtrain_fold, num_boost_round=200)\n",
    "\n",
    "    # Predict on training and validation sets\n",
    "    y_pred_train = model.predict(dtrain_fold)\n",
    "    y_pred_val = model.predict(dval_fold)\n",
    "\n",
    "    # Calculate AUC scores\n",
    "    train_auc = roc_auc_score(y_train_fold, y_pred_train)\n",
    "    val_auc = roc_auc_score(y_val_fold, y_pred_val)\n",
    "\n",
    "    train_auc_scores.append(train_auc)\n",
    "    val_auc_scores.append(val_auc)\n",
    "\n",
    "    print(f\"Fold {fold+1}, Train AUC: {train_auc:.4f}, Validation AUC: {val_auc:.4f}\")\n",
    "\n",
    "# Train a final model on the entire training set\n",
    "final_model = xgb.train(xgb_params, dtrain, num_boost_round=200,custom_metric=eval_function,maximize=True)\n",
    "\n",
    "# Predict on test data and fit on train data\n",
    "y_pred_test = final_model.predict(dtest)\n",
    "y_pred_train = final_model.predict(dtrain)\n",
    "\n",
    "# AUC score for whole data\n",
    "train_auc = roc_auc_score(y_train, y_pred_train)\n",
    "test_auc = roc_auc_score(y_test, y_pred_test)\n",
    "print(f\"Train AUC: {train_auc:.4f}, Test AUC: {test_auc:.4f}\")"
   ]
  }
 ],
 "metadata": {
  "kernelspec": {
   "display_name": "torch",
   "language": "python",
   "name": "python3"
  },
  "language_info": {
   "codemirror_mode": {
    "name": "ipython",
    "version": 3
   },
   "file_extension": ".py",
   "mimetype": "text/x-python",
   "name": "python",
   "nbconvert_exporter": "python",
   "pygments_lexer": "ipython3",
   "version": "3.12.2"
  }
 },
 "nbformat": 4,
 "nbformat_minor": 5
}
